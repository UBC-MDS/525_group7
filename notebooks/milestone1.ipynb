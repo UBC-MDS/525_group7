{
 "cells": [
  {
   "cell_type": "markdown",
   "id": "worldwide-teddy",
   "metadata": {},
   "source": [
    "# DSCI 525: Milestone 1\n",
    "\n",
    "Group 7:\n",
    "- Alex Truong Hai Yen\n",
    "- Peter Yang\n",
    "- Joshua JiaJie Lim\n",
    "- Rahul Kuriyedath"
   ]
  },
  {
   "cell_type": "code",
   "execution_count": null,
   "id": "cathedral-methodology",
   "metadata": {},
   "outputs": [],
   "source": []
  }
 ],
 "metadata": {
  "kernelspec": {
   "display_name": "Python [conda env:dsci573env]",
   "language": "python",
   "name": "conda-env-dsci573env-py"
  },
  "language_info": {
   "codemirror_mode": {
    "name": "ipython",
    "version": 3
   },
   "file_extension": ".py",
   "mimetype": "text/x-python",
   "name": "python",
   "nbconvert_exporter": "python",
   "pygments_lexer": "ipython3",
   "version": "3.8.6"
  }
 },
 "nbformat": 4,
 "nbformat_minor": 5
}
