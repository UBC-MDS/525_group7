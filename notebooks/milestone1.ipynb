{
 "cells": [
  {
   "cell_type": "markdown",
   "id": "every-lobby",
   "metadata": {},
   "source": [
    "# DSCI 525: Milestone 1\n",
    "\n",
    "Group 7:\n",
    "- Alex Truong Hai Yen\n",
    "- Peter Yang\n",
    "- Joshua JiaJie Lim\n",
    "- Rahul Kuriyedath"
   ]
  },
  {
   "cell_type": "code",
   "execution_count": 1,
   "id": "complicated-numbers",
   "metadata": {},
   "outputs": [],
   "source": [
    "import re\n",
    "import os\n",
    "import glob\n",
    "import zipfile\n",
    "import requests\n",
    "from urllib.request import urlretrieve\n",
    "import json\n",
    "import pandas as pd\n",
    "from memory_profiler import memory_usage"
   ]
  },
  {
   "cell_type": "code",
   "execution_count": 2,
   "id": "religious-granny",
   "metadata": {},
   "outputs": [],
   "source": [
    "%load_ext rpy2.ipython"
   ]
  },
  {
   "cell_type": "code",
   "execution_count": 3,
   "id": "coastal-claim",
   "metadata": {},
   "outputs": [],
   "source": [
    "%load_ext memory_profiler"
   ]
  },
  {
   "cell_type": "markdown",
   "id": "acoustic-produce",
   "metadata": {},
   "source": [
    "## A) Downloading the data"
   ]
  },
  {
   "cell_type": "code",
   "execution_count": 4,
   "id": "optical-cream",
   "metadata": {},
   "outputs": [],
   "source": [
    "article_id = 14096681\n",
    "url = f\"https://api.figshare.com/v2/articles/{article_id}\"\n",
    "headers = {\"Content-Type\": \"application/json\"}\n",
    "output_directory = \"figshareairline/\""
   ]
  },
  {
   "cell_type": "code",
   "execution_count": 5,
   "id": "dedicated-vietnamese",
   "metadata": {},
   "outputs": [
    {
     "data": {
      "text/plain": [
       "[{'is_link_only': False,\n",
       "  'name': 'daily_rainfall_2014.png',\n",
       "  'supplied_md5': 'fd32a2ffde300a31f8d63b1825d47e5e',\n",
       "  'computed_md5': 'fd32a2ffde300a31f8d63b1825d47e5e',\n",
       "  'id': 26579150,\n",
       "  'download_url': 'https://ndownloader.figshare.com/files/26579150',\n",
       "  'size': 58863},\n",
       " {'is_link_only': False,\n",
       "  'name': 'environment.yml',\n",
       "  'supplied_md5': '060b2020017eed93a1ee7dd8c65b2f34',\n",
       "  'computed_md5': '060b2020017eed93a1ee7dd8c65b2f34',\n",
       "  'id': 26579171,\n",
       "  'download_url': 'https://ndownloader.figshare.com/files/26579171',\n",
       "  'size': 192},\n",
       " {'is_link_only': False,\n",
       "  'name': 'README.md',\n",
       "  'supplied_md5': '61858c6cc0e6a6d6663a7e4c75bbd88c',\n",
       "  'computed_md5': '61858c6cc0e6a6d6663a7e4c75bbd88c',\n",
       "  'id': 26586554,\n",
       "  'download_url': 'https://ndownloader.figshare.com/files/26586554',\n",
       "  'size': 5422},\n",
       " {'is_link_only': False,\n",
       "  'name': 'data.zip',\n",
       "  'supplied_md5': 'b517383f76e77bd03755a63a8ff83ee9',\n",
       "  'computed_md5': 'b517383f76e77bd03755a63a8ff83ee9',\n",
       "  'id': 26766812,\n",
       "  'download_url': 'https://ndownloader.figshare.com/files/26766812',\n",
       "  'size': 814041183},\n",
       " {'is_link_only': False,\n",
       "  'name': 'get_data.py',\n",
       "  'supplied_md5': '7829028495fd9dec9680ea013474afa6',\n",
       "  'computed_md5': '7829028495fd9dec9680ea013474afa6',\n",
       "  'id': 26766815,\n",
       "  'download_url': 'https://ndownloader.figshare.com/files/26766815',\n",
       "  'size': 4113}]"
      ]
     },
     "execution_count": 5,
     "metadata": {},
     "output_type": "execute_result"
    }
   ],
   "source": [
    "response = requests.request(\"GET\", url, headers=headers)\n",
    "data = json.loads(response.text)\n",
    "files = data[\"files\"]\n",
    "files"
   ]
  },
  {
   "cell_type": "code",
   "execution_count": 6,
   "id": "instrumental-experience",
   "metadata": {},
   "outputs": [
    {
     "name": "stdout",
     "output_type": "stream",
     "text": [
      "Wall time: 12min 10s\n"
     ]
    }
   ],
   "source": [
    "%%time\n",
    "files_to_dl = [\"data.zip\"]\n",
    "for file in files:\n",
    "    if file[\"name\"] in files_to_dl:\n",
    "        os.makedirs(output_directory, exist_ok=True)\n",
    "        urlretrieve(file[\"download_url\"], output_directory + file[\"name\"])"
   ]
  },
  {
   "cell_type": "code",
   "execution_count": 7,
   "id": "silent-cleveland",
   "metadata": {},
   "outputs": [
    {
     "name": "stdout",
     "output_type": "stream",
     "text": [
      "Wall time: 22.5 s\n"
     ]
    }
   ],
   "source": [
    "%%time\n",
    "with zipfile.ZipFile(os.path.join(output_directory, \"data.zip\"), 'r') as f:\n",
    "    f.extractall(output_directory)"
   ]
  },
  {
   "cell_type": "markdown",
   "id": "average-picking",
   "metadata": {},
   "source": [
    "## B) Combining data CSVs"
   ]
  },
  {
   "cell_type": "code",
   "execution_count": 13,
   "id": "retired-trinidad",
   "metadata": {},
   "outputs": [
    {
     "data": {
      "text/plain": [
       "['figshareairline\\\\ACCESS-CM2_daily_rainfall_NSW.csv',\n",
       " 'figshareairline\\\\ACCESS-ESM1-5_daily_rainfall_NSW.csv',\n",
       " 'figshareairline\\\\AWI-ESM-1-1-LR_daily_rainfall_NSW.csv',\n",
       " 'figshareairline\\\\BCC-CSM2-MR_daily_rainfall_NSW.csv',\n",
       " 'figshareairline\\\\BCC-ESM1_daily_rainfall_NSW.csv',\n",
       " 'figshareairline\\\\CanESM5_daily_rainfall_NSW.csv',\n",
       " 'figshareairline\\\\CMCC-CM2-HR4_daily_rainfall_NSW.csv',\n",
       " 'figshareairline\\\\CMCC-CM2-SR5_daily_rainfall_NSW.csv',\n",
       " 'figshareairline\\\\CMCC-ESM2_daily_rainfall_NSW.csv',\n",
       " 'figshareairline\\\\combined_data.csv',\n",
       " 'figshareairline\\\\EC-Earth3-Veg-LR_daily_rainfall_NSW.csv',\n",
       " 'figshareairline\\\\FGOALS-f3-L_daily_rainfall_NSW.csv',\n",
       " 'figshareairline\\\\FGOALS-g3_daily_rainfall_NSW.csv',\n",
       " 'figshareairline\\\\GFDL-CM4_daily_rainfall_NSW.csv',\n",
       " 'figshareairline\\\\GFDL-ESM4_daily_rainfall_NSW.csv',\n",
       " 'figshareairline\\\\INM-CM4-8_daily_rainfall_NSW.csv',\n",
       " 'figshareairline\\\\INM-CM5-0_daily_rainfall_NSW.csv',\n",
       " 'figshareairline\\\\KIOST-ESM_daily_rainfall_NSW.csv',\n",
       " 'figshareairline\\\\MIROC6_daily_rainfall_NSW.csv',\n",
       " 'figshareairline\\\\MPI-ESM-1-2-HAM_daily_rainfall_NSW.csv',\n",
       " 'figshareairline\\\\MPI-ESM1-2-HR_daily_rainfall_NSW.csv',\n",
       " 'figshareairline\\\\MPI-ESM1-2-LR_daily_rainfall_NSW.csv',\n",
       " 'figshareairline\\\\MRI-ESM2-0_daily_rainfall_NSW.csv',\n",
       " 'figshareairline\\\\NESM3_daily_rainfall_NSW.csv',\n",
       " 'figshareairline\\\\NorESM2-LM_daily_rainfall_NSW.csv',\n",
       " 'figshareairline\\\\NorESM2-MM_daily_rainfall_NSW.csv',\n",
       " 'figshareairline\\\\observed_daily_rainfall_SYD.csv',\n",
       " 'figshareairline\\\\SAM0-UNICON_daily_rainfall_NSW.csv',\n",
       " 'figshareairline\\\\TaiESM1_daily_rainfall_NSW.csv']"
      ]
     },
     "execution_count": 13,
     "metadata": {},
     "output_type": "execute_result"
    }
   ],
   "source": [
    "import pandas as pd\n",
    "files = glob.glob('figshareairline/*.csv')\n",
    "files"
   ]
  },
  {
   "cell_type": "code",
   "execution_count": 12,
   "id": "stuffed-control",
   "metadata": {},
   "outputs": [],
   "source": [
    "# For Mac OS:\n",
    "\n",
    "# if 'figshareairline/combined_data.csv' in (files):\n",
    "#     files.remove('figshareairline/combined_data.csv')\n",
    "# if 'figshareairline/observed_daily_rainfall_SYD.csv' in (files):\n",
    "#     files.remove('figshareairline/observed_daily_rainfall_SYD.csv')"
   ]
  },
  {
   "cell_type": "code",
   "execution_count": 14,
   "id": "discrete-seven",
   "metadata": {},
   "outputs": [],
   "source": [
    "# For Windows:\n",
    "\n",
    "if 'figshareairline\\\\combined_data.csv' in (files):\n",
    "    files.remove('figshareairline\\\\combined_data.csv')\n",
    "if 'figshareairline\\\\observed_daily_rainfall_SYD.csv' in (files):\n",
    "    files.remove('figshareairline\\\\observed_daily_rainfall_SYD.csv')"
   ]
  },
  {
   "cell_type": "code",
   "execution_count": 15,
   "id": "numerous-america",
   "metadata": {},
   "outputs": [
    {
     "name": "stdout",
     "output_type": "stream",
     "text": [
      "peak memory: 93.20 MiB, increment: 0.26 MiB\n",
      "Wall time: 8min 16s\n"
     ]
    }
   ],
   "source": [
    "%%time\n",
    "%memit\n",
    "\n",
    "import pandas as pd # we do not use use_cols trick because we are loading all columns in the file\n",
    "df = pd.concat((pd.read_csv(file)\n",
    "                .assign(model=re.findall(r'[^\\\\/]+(?=_daily_rainfall_NSW)', file)[0])\n",
    "                for file in files)\n",
    "              )\n",
    "df.to_csv(\"figshareairline/combined_data.csv\", index = False)"
   ]
  },
  {
   "cell_type": "code",
   "execution_count": 16,
   "id": "charged-february",
   "metadata": {},
   "outputs": [
    {
     "name": "stdout",
     "output_type": "stream",
     "text": [
      "5.7G\tfigshareairline/combined_data.csv\n"
     ]
    }
   ],
   "source": [
    "%%sh\n",
    "du -sh figshareairline/combined_data.csv"
   ]
  },
  {
   "cell_type": "code",
   "execution_count": 17,
   "id": "strategic-discrimination",
   "metadata": {},
   "outputs": [
    {
     "name": "stdout",
     "output_type": "stream",
     "text": [
      "Wall time: 1min 50s\n"
     ]
    }
   ],
   "source": [
    "%%time\n",
    "df = pd.read_csv(\"figshareairline/combined_data.csv\")"
   ]
  },
  {
   "cell_type": "code",
   "execution_count": 18,
   "id": "unexpected-biotechnology",
   "metadata": {},
   "outputs": [
    {
     "name": "stdout",
     "output_type": "stream",
     "text": [
      "(62467843, 7)\n"
     ]
    }
   ],
   "source": [
    "print(df.shape)"
   ]
  },
  {
   "cell_type": "code",
   "execution_count": 19,
   "id": "dying-particle",
   "metadata": {
    "tags": []
   },
   "outputs": [
    {
     "data": {
      "text/html": [
       "<div>\n",
       "<style scoped>\n",
       "    .dataframe tbody tr th:only-of-type {\n",
       "        vertical-align: middle;\n",
       "    }\n",
       "\n",
       "    .dataframe tbody tr th {\n",
       "        vertical-align: top;\n",
       "    }\n",
       "\n",
       "    .dataframe thead th {\n",
       "        text-align: right;\n",
       "    }\n",
       "</style>\n",
       "<table border=\"1\" class=\"dataframe\">\n",
       "  <thead>\n",
       "    <tr style=\"text-align: right;\">\n",
       "      <th></th>\n",
       "      <th>time</th>\n",
       "      <th>lat_min</th>\n",
       "      <th>lat_max</th>\n",
       "      <th>lon_min</th>\n",
       "      <th>lon_max</th>\n",
       "      <th>rain (mm/day)</th>\n",
       "      <th>model</th>\n",
       "    </tr>\n",
       "  </thead>\n",
       "  <tbody>\n",
       "    <tr>\n",
       "      <th>0</th>\n",
       "      <td>1889-01-01 12:00:00</td>\n",
       "      <td>-36.25</td>\n",
       "      <td>-35.0</td>\n",
       "      <td>140.625</td>\n",
       "      <td>142.5</td>\n",
       "      <td>3.293256e-13</td>\n",
       "      <td>ACCESS-CM2</td>\n",
       "    </tr>\n",
       "    <tr>\n",
       "      <th>1</th>\n",
       "      <td>1889-01-02 12:00:00</td>\n",
       "      <td>-36.25</td>\n",
       "      <td>-35.0</td>\n",
       "      <td>140.625</td>\n",
       "      <td>142.5</td>\n",
       "      <td>0.000000e+00</td>\n",
       "      <td>ACCESS-CM2</td>\n",
       "    </tr>\n",
       "    <tr>\n",
       "      <th>2</th>\n",
       "      <td>1889-01-03 12:00:00</td>\n",
       "      <td>-36.25</td>\n",
       "      <td>-35.0</td>\n",
       "      <td>140.625</td>\n",
       "      <td>142.5</td>\n",
       "      <td>0.000000e+00</td>\n",
       "      <td>ACCESS-CM2</td>\n",
       "    </tr>\n",
       "    <tr>\n",
       "      <th>3</th>\n",
       "      <td>1889-01-04 12:00:00</td>\n",
       "      <td>-36.25</td>\n",
       "      <td>-35.0</td>\n",
       "      <td>140.625</td>\n",
       "      <td>142.5</td>\n",
       "      <td>0.000000e+00</td>\n",
       "      <td>ACCESS-CM2</td>\n",
       "    </tr>\n",
       "    <tr>\n",
       "      <th>4</th>\n",
       "      <td>1889-01-05 12:00:00</td>\n",
       "      <td>-36.25</td>\n",
       "      <td>-35.0</td>\n",
       "      <td>140.625</td>\n",
       "      <td>142.5</td>\n",
       "      <td>1.047658e-02</td>\n",
       "      <td>ACCESS-CM2</td>\n",
       "    </tr>\n",
       "  </tbody>\n",
       "</table>\n",
       "</div>"
      ],
      "text/plain": [
       "                  time  lat_min  lat_max  lon_min  lon_max  rain (mm/day)  \\\n",
       "0  1889-01-01 12:00:00   -36.25    -35.0  140.625    142.5   3.293256e-13   \n",
       "1  1889-01-02 12:00:00   -36.25    -35.0  140.625    142.5   0.000000e+00   \n",
       "2  1889-01-03 12:00:00   -36.25    -35.0  140.625    142.5   0.000000e+00   \n",
       "3  1889-01-04 12:00:00   -36.25    -35.0  140.625    142.5   0.000000e+00   \n",
       "4  1889-01-05 12:00:00   -36.25    -35.0  140.625    142.5   1.047658e-02   \n",
       "\n",
       "        model  \n",
       "0  ACCESS-CM2  \n",
       "1  ACCESS-CM2  \n",
       "2  ACCESS-CM2  \n",
       "3  ACCESS-CM2  \n",
       "4  ACCESS-CM2  "
      ]
     },
     "execution_count": 19,
     "metadata": {},
     "output_type": "execute_result"
    }
   ],
   "source": [
    "df.head()"
   ]
  },
  {
   "cell_type": "markdown",
   "id": "general-sword",
   "metadata": {},
   "source": [
    "**Comparison in run times and memory usages on different machines**\n",
    "\n",
    "Machine | Peter (Windows 16Gb RAM) |Alex (Windows 8Gb RAM) |Joshua (macOS Catalina 8Gb RAM) |Rahul (Windows 16Gb RAM) \n",
    "---|---|---|---|---\n",
    "Download data - wall time| 34.1s | 12min 10s | 4min 10s\n",
    "Unzip data - wall time| 17.8s| 22.5s | 21.4 s\n",
    "Combine data - wall time| 6min 10s| 8 mins 16s | 7min 14s\n",
    "Combine data - peak memory | 110.30 MiB| 93.20 MiB| 78.52 MiB\n",
    "Read combined data - wall time | 53.6s | 1min 50s | 1min 29s"
   ]
  },
  {
   "cell_type": "markdown",
   "id": "suspended-reality",
   "metadata": {},
   "source": [
    "**Comment:**\n",
    "\n",
    "- Peter's machine can run the task faster than Alex's and Joshua's given the bigger RAM\n",
    "- Given the same RAM size for Alex's and Joshua's machine, MacOS seems to process and tast faster than Windows.\n",
    "- Alex's machine takes the longest to download the data."
   ]
  },
  {
   "cell_type": "markdown",
   "id": "roman-allowance",
   "metadata": {},
   "source": [
    "## C) Load combined CSV to memory and perform a simple EDA in Python"
   ]
  },
  {
   "cell_type": "markdown",
   "id": "wanted-generation",
   "metadata": {},
   "source": [
    "### 1. How many records in each type of model?\n",
    "#### 1.1. Classical way - load all to memory (for comparison later)"
   ]
  },
  {
   "cell_type": "code",
   "execution_count": 20,
   "id": "available-metabolism",
   "metadata": {},
   "outputs": [
    {
     "name": "stdout",
     "output_type": "stream",
     "text": [
      "MPI-ESM1-2-HR       5154240\n",
      "CMCC-CM2-SR5        3541230\n",
      "CMCC-ESM2           3541230\n",
      "TaiESM1             3541230\n",
      "NorESM2-MM          3541230\n",
      "CMCC-CM2-HR4        3541230\n",
      "SAM0-UNICON         3541153\n",
      "FGOALS-f3-L         3219300\n",
      "GFDL-CM4            3219300\n",
      "GFDL-ESM4           3219300\n",
      "MRI-ESM2-0          3037320\n",
      "EC-Earth3-Veg-LR    3037320\n",
      "BCC-CSM2-MR         3035340\n",
      "MIROC6              2070900\n",
      "ACCESS-CM2          1932840\n",
      "ACCESS-ESM1-5       1610700\n",
      "INM-CM5-0           1609650\n",
      "INM-CM4-8           1609650\n",
      "FGOALS-g3           1287720\n",
      "KIOST-ESM           1287720\n",
      "AWI-ESM-1-1-LR       966420\n",
      "MPI-ESM1-2-LR        966420\n",
      "NESM3                966420\n",
      "MPI-ESM-1-2-HAM      966420\n",
      "NorESM2-LM           919800\n",
      "CanESM5              551880\n",
      "BCC-ESM1             551880\n",
      "Name: model, dtype: int64\n",
      "peak memory: 4166.52 MiB, increment: 1347.64 MiB\n",
      "Wall time: 2min 4s\n"
     ]
    }
   ],
   "source": [
    "%%time\n",
    "%%memit\n",
    "df = pd.read_csv(\"figshareairline/combined_data.csv\")\n",
    "print(df[\"model\"].value_counts())"
   ]
  },
  {
   "cell_type": "markdown",
   "id": "interpreted-kingdom",
   "metadata": {},
   "source": [
    "#### 1.2. Loading in chunk "
   ]
  },
  {
   "cell_type": "code",
   "execution_count": 21,
   "id": "after-collect",
   "metadata": {},
   "outputs": [
    {
     "name": "stdout",
     "output_type": "stream",
     "text": [
      "ACCESS-CM2          1932840\n",
      "ACCESS-ESM1-5       1610700\n",
      "AWI-ESM-1-1-LR       966420\n",
      "BCC-CSM2-MR         3035340\n",
      "BCC-ESM1             551880\n",
      "CMCC-CM2-HR4        3541230\n",
      "CMCC-CM2-SR5        3541230\n",
      "CMCC-ESM2           3541230\n",
      "CanESM5              551880\n",
      "EC-Earth3-Veg-LR    3037320\n",
      "FGOALS-f3-L         3219300\n",
      "FGOALS-g3           1287720\n",
      "GFDL-CM4            3219300\n",
      "GFDL-ESM4           3219300\n",
      "INM-CM4-8           1609650\n",
      "INM-CM5-0           1609650\n",
      "KIOST-ESM           1287720\n",
      "MIROC6              2070900\n",
      "MPI-ESM-1-2-HAM      966420\n",
      "MPI-ESM1-2-HR       5154240\n",
      "MPI-ESM1-2-LR        966420\n",
      "MRI-ESM2-0          3037320\n",
      "NESM3                966420\n",
      "NorESM2-LM           919800\n",
      "NorESM2-MM          3541230\n",
      "SAM0-UNICON         3541153\n",
      "TaiESM1             3541230\n",
      "dtype: int32\n",
      "peak memory: 3163.61 MiB, increment: 2030.70 MiB\n",
      "Wall time: 1min 13s\n"
     ]
    }
   ],
   "source": [
    "%%time\n",
    "%%memit\n",
    "counts = pd.Series(dtype=int)\n",
    "for chunk in pd.read_csv(\"figshareairline/combined_data.csv\", chunksize=10_000_000):\n",
    "    counts = counts.add(chunk[\"model\"].value_counts(), fill_value=0)\n",
    "print(counts.astype(int))"
   ]
  },
  {
   "cell_type": "markdown",
   "id": "portuguese-atlas",
   "metadata": {},
   "source": [
    "**Comment:** (Results are computer-dependent)\n",
    "\n",
    "We cut the running time almost by half by loading the data in chunk as compared to loading all data at once. There is also a peak memory savings of approximately 1000 MiB."
   ]
  },
  {
   "cell_type": "markdown",
   "id": "cardiovascular-earth",
   "metadata": {},
   "source": [
    "### 2. What is the average rain fall (mm/day) for the respective models\n",
    "#### 2.1. Classical way - load all to memory (for comparison later)"
   ]
  },
  {
   "cell_type": "code",
   "execution_count": 22,
   "id": "timely-stadium",
   "metadata": {},
   "outputs": [
    {
     "name": "stdout",
     "output_type": "stream",
     "text": [
      "model\n",
      "ACCESS-CM2          1.787025\n",
      "ACCESS-ESM1-5       2.217501\n",
      "AWI-ESM-1-1-LR      2.026071\n",
      "BCC-CSM2-MR         1.951832\n",
      "BCC-ESM1            1.811032\n",
      "CMCC-CM2-HR4        2.279350\n",
      "CMCC-CM2-SR5        2.383389\n",
      "CMCC-ESM2           2.266125\n",
      "CanESM5             1.894328\n",
      "EC-Earth3-Veg-LR    1.516258\n",
      "FGOALS-f3-L         1.627373\n",
      "FGOALS-g3           2.156419\n",
      "GFDL-CM4            1.414485\n",
      "GFDL-ESM4                NaN\n",
      "INM-CM4-8           2.811463\n",
      "INM-CM5-0           2.669012\n",
      "KIOST-ESM           1.102353\n",
      "MIROC6              2.301662\n",
      "MPI-ESM-1-2-HAM     1.610720\n",
      "MPI-ESM1-2-HR       0.995569\n",
      "MPI-ESM1-2-LR       1.074308\n",
      "MRI-ESM2-0          1.368030\n",
      "NESM3               1.621936\n",
      "NorESM2-LM          2.230799\n",
      "NorESM2-MM          2.232966\n",
      "SAM0-UNICON         2.169676\n",
      "TaiESM1             2.224576\n",
      "Name: rain (mm/day), dtype: float64\n",
      "peak memory: 5179.16 MiB, increment: 4245.08 MiB\n",
      "Wall time: 2min 23s\n"
     ]
    }
   ],
   "source": [
    "%%time\n",
    "%%memit\n",
    "df = pd.read_csv(\"figshareairline/combined_data.csv\")\n",
    "print(df.groupby(by = ['model']).mean()['rain (mm/day)'])"
   ]
  },
  {
   "cell_type": "markdown",
   "id": "hazardous-friendship",
   "metadata": {},
   "source": [
    "#### 2.2 Only load the columns that we are interested in"
   ]
  },
  {
   "cell_type": "code",
   "execution_count": 23,
   "id": "settled-scope",
   "metadata": {},
   "outputs": [
    {
     "name": "stdout",
     "output_type": "stream",
     "text": [
      "model\n",
      "ACCESS-CM2          1.787025\n",
      "ACCESS-ESM1-5       2.217501\n",
      "AWI-ESM-1-1-LR      2.026071\n",
      "BCC-CSM2-MR         1.951832\n",
      "BCC-ESM1            1.811032\n",
      "CMCC-CM2-HR4        2.279350\n",
      "CMCC-CM2-SR5        2.383389\n",
      "CMCC-ESM2           2.266125\n",
      "CanESM5             1.894328\n",
      "EC-Earth3-Veg-LR    1.516258\n",
      "FGOALS-f3-L         1.627373\n",
      "FGOALS-g3           2.156419\n",
      "GFDL-CM4            1.414485\n",
      "GFDL-ESM4                NaN\n",
      "INM-CM4-8           2.811463\n",
      "INM-CM5-0           2.669012\n",
      "KIOST-ESM           1.102353\n",
      "MIROC6              2.301662\n",
      "MPI-ESM-1-2-HAM     1.610720\n",
      "MPI-ESM1-2-HR       0.995569\n",
      "MPI-ESM1-2-LR       1.074308\n",
      "MRI-ESM2-0          1.368030\n",
      "NESM3               1.621936\n",
      "NorESM2-LM          2.230799\n",
      "NorESM2-MM          2.232966\n",
      "SAM0-UNICON         2.169676\n",
      "TaiESM1             2.224576\n",
      "Name: rain (mm/day), dtype: float64\n",
      "peak memory: 4274.40 MiB, increment: 855.27 MiB\n",
      "Wall time: 50.9 s\n"
     ]
    }
   ],
   "source": [
    "%%time\n",
    "%%memit\n",
    "use_cols = ['model','rain (mm/day)']\n",
    "df = pd.read_csv(\"figshareairline/combined_data.csv\", usecols = use_cols)\n",
    "print(df.groupby(by = ['model']).mean()['rain (mm/day)'])"
   ]
  },
  {
   "cell_type": "markdown",
   "id": "stretch-shadow",
   "metadata": {},
   "source": [
    "#### 2.3 Using dask"
   ]
  },
  {
   "cell_type": "code",
   "execution_count": 28,
   "id": "handed-summer",
   "metadata": {},
   "outputs": [
    {
     "name": "stdout",
     "output_type": "stream",
     "text": [
      "model\n",
      "ACCESS-CM2          1.787025\n",
      "ACCESS-ESM1-5       2.217501\n",
      "AWI-ESM-1-1-LR      2.026071\n",
      "BCC-CSM2-MR         1.951832\n",
      "BCC-ESM1            1.811032\n",
      "CanESM5             1.894328\n",
      "CMCC-CM2-HR4        2.279350\n",
      "CMCC-CM2-SR5        2.383389\n",
      "CMCC-ESM2           2.266125\n",
      "EC-Earth3-Veg-LR    1.516258\n",
      "FGOALS-f3-L         1.627373\n",
      "FGOALS-g3           2.156419\n",
      "GFDL-CM4            1.414485\n",
      "GFDL-ESM4                NaN\n",
      "INM-CM4-8           2.811463\n",
      "INM-CM5-0           2.669012\n",
      "KIOST-ESM           1.102353\n",
      "MIROC6              2.301662\n",
      "MPI-ESM-1-2-HAM     1.610720\n",
      "MPI-ESM1-2-HR       0.995569\n",
      "MPI-ESM1-2-LR       1.074308\n",
      "MRI-ESM2-0          1.368030\n",
      "NESM3               1.621936\n",
      "NorESM2-LM          2.230799\n",
      "NorESM2-MM          2.232966\n",
      "SAM0-UNICON         2.169676\n",
      "TaiESM1             2.224576\n",
      "Name: rain (mm/day), dtype: float64\n",
      "peak memory: 2558.66 MiB, increment: 1532.67 MiB\n",
      "Wall time: 47.7 s\n"
     ]
    }
   ],
   "source": [
    "%%time\n",
    "%%memit\n",
    "import dask.dataframe as dd\n",
    "\n",
    "ddf = dd.read_csv('figshareairline/combined_data.csv', )\n",
    "print(ddf.groupby(by = ['model']).mean()['rain (mm/day)'].compute())"
   ]
  },
  {
   "cell_type": "markdown",
   "id": "palestinian-softball",
   "metadata": {},
   "source": [
    "**Comment:** (Results are computer dependent)\n",
    "- By loading only the columns of interest instead of all the columns in the dataframe, we can save peak memory usage from 5179.16 MiB in 2.1 to  4274.40 MiB in 2.2. Running time is significantly reduced from 2min 23s to 50.9 s.\n",
    "\n",
    "- With dask where chunking and parallel execution are applied automatically for us, we can process the data slightly faster at 47.7s and it also takes up the least amount of memory during peak usage at 2558.66 MiB, that is only around 50% of what the traditional Pandas method consumes."
   ]
  },
  {
   "cell_type": "markdown",
   "id": "postal-suspect",
   "metadata": {},
   "source": [
    "## D) Transfer dataframe from Python to R and Perform a simple R EDA"
   ]
  },
  {
   "cell_type": "markdown",
   "id": "centered-maximum",
   "metadata": {},
   "source": [
    "### 1. Comparing the different file formats created in Python in terms of file size"
   ]
  },
  {
   "cell_type": "code",
   "execution_count": 35,
   "id": "bacterial-membership",
   "metadata": {},
   "outputs": [],
   "source": [
    "# Attribution: adopt code of Gittu in DSCI 525 Lecture 2 with modification"
   ]
  },
  {
   "cell_type": "code",
   "execution_count": 29,
   "id": "imported-transfer",
   "metadata": {},
   "outputs": [
    {
     "name": "stdout",
     "output_type": "stream",
     "text": [
      "peak memory: 2907.09 MiB, increment: 2838.77 MiB\n",
      "Wall time: 33.6 s\n"
     ]
    }
   ],
   "source": [
    "%%time\n",
    "%%memit\n",
    "# convert csv to arrow table format\n",
    "import pyarrow.dataset as ds\n",
    "dataset = ds.dataset(\"figshareairline/combined_data.csv\", format=\"csv\")\n",
    "table = dataset.to_table()"
   ]
  },
  {
   "cell_type": "code",
   "execution_count": 32,
   "id": "latin-graph",
   "metadata": {},
   "outputs": [
    {
     "name": "stdout",
     "output_type": "stream",
     "text": [
      "peak memory: 3673.01 MiB, increment: 828.54 MiB\n",
      "Wall time: 10.2 s\n"
     ]
    }
   ],
   "source": [
    "%%time\n",
    "%%memit\n",
    "# writing arrow table to feather format\n",
    "import pyarrow.feather as feather\n",
    "feather.write_feather(table, 'figshareairline/combined_data.feather')"
   ]
  },
  {
   "cell_type": "code",
   "execution_count": 33,
   "id": "through-dublin",
   "metadata": {},
   "outputs": [
    {
     "name": "stdout",
     "output_type": "stream",
     "text": [
      "peak memory: 4018.35 MiB, increment: 346.03 MiB\n",
      "Wall time: 17 s\n"
     ]
    }
   ],
   "source": [
    "%%time\n",
    "%%memit\n",
    "# writing arrow table to feather format\n",
    "import pyarrow.parquet as pq\n",
    "pq.write_to_dataset(table, 'figshareairline/combined_data.parquet')"
   ]
  },
  {
   "cell_type": "code",
   "execution_count": 34,
   "id": "dental-injury",
   "metadata": {},
   "outputs": [
    {
     "name": "stdout",
     "output_type": "stream",
     "text": [
      "5.7G\tfigshareairline/combined_data.csv\n",
      "1.1G\tfigshareairline/combined_data.feather\n",
      "542M\tfigshareairline/combined_data.parquet\n"
     ]
    }
   ],
   "source": [
    "%%sh\n",
    "# seeing the size of the csv data\n",
    "du -sh figshareairline/combined_data.csv\n",
    "# seeing the size of the feather data\n",
    "du -sh figshareairline/combined_data.feather\n",
    "# seeing the size of the parquet data\n",
    "du -sh figshareairline/combined_data.parquet"
   ]
  },
  {
   "cell_type": "markdown",
   "id": "ultimate-continent",
   "metadata": {},
   "source": [
    "### 2. Rationale for why we chose **parquet** file format to transfer dataframe from python to R:\n",
    "\n",
    "- The traditional panda exchange would be inefficient in running time for both loading and process the data during EDA because with it has to load the entire data in memory. Moreover, its storage in csv file is the largest\n",
    "\n",
    "- Arrow exchange helps reduce the running time as compared to traditional panda exchange thanks to its columnar memory format and language independence or no serialization features. Instead of having to load or search through the entire data, it can efficiently search by column. However, arrow format only supports some operations for data wrangling, this could be restricting on EDA.\n",
    "\n",
    "- Hence, we preferred other columnar memory file formats like .feather or .pacquet.  because it has all the advantage of columnar format like arrow and it allows more flexible operations in data wrangling. \n",
    "\n",
    "- Between .feather and .pacquet, we chose .pacquet given it has a more established history and we think its performance would be more stable or less bugging than .feather, which is actively developed. Moreover, .pacquet file is highly portable because its file size is the smallest for the same amount of data.\n",
    "\n",
    "\n",
    "*Reference: [What is Apache Parquet and why you should use it!](https://www.upsolver.com/blog/apache-parquet-why-use)*"
   ]
  },
  {
   "cell_type": "markdown",
   "id": "governmental-certification",
   "metadata": {},
   "source": [
    "### 3. Transfer data file to R using pacquet and conduct a simple R EDA"
   ]
  },
  {
   "cell_type": "code",
   "execution_count": 13,
   "id": "conscious-chile",
   "metadata": {},
   "outputs": [],
   "source": [
    "filepath = glob.glob('figshareairline/combined_data.parquet/*.parquet')[0]\n",
    "filepath"
   ]
  },
  {
   "cell_type": "code",
   "execution_count": null,
   "id": "disturbed-disco",
   "metadata": {},
   "outputs": [],
   "source": [
    "%%time\n",
    "%%R -i filepath\n",
    "\n",
    "# Looading the data from parquet\n",
    "library(arrow)\n",
    "r_table <- arrow::read_parquet(filepath)\n",
    "\n",
    "# conduct simple EDA\n",
    "\n",
    "## EDA 1\n",
    "library(dplyr)\n",
    "start_time <- Sys.time()\n",
    "\n",
    "result_eda1 <- r_table %>%\n",
    "    group_by(model) %>%\n",
    "    summarise(no_of_records = n()) \n",
    "\n",
    "end_time <- Sys.time()\n",
    "\n",
    "print(result_eda1)\n",
    "print(end_time - start_time)\n",
    "\n",
    "## EDA 2\n",
    "start_time <- Sys.time()\n",
    "\n",
    "result_eda2 <- r_table %>%\n",
    "    group_by(model) %>%\n",
    "    summarise(average_rainfall = mean(`rain (mm/day)`)) \n",
    "\n",
    "end_time <- Sys.time()\n",
    "\n",
    "print(result_eda2)\n",
    "print(end_time - start_time)"
   ]
  },
  {
   "cell_type": "markdown",
   "id": "early-crown",
   "metadata": {},
   "source": [
    "## Closing comments"
   ]
  },
  {
   "cell_type": "markdown",
   "id": "jewish-soldier",
   "metadata": {},
   "source": [
    "* Given the size of this data is quite large, the time it took us to run the code is quite long.\n",
    "* There are different file syntax between Windows and macOS that we have managed to debug successfully.\n",
    "* The `rpy2` is another obstacle given two of our members could not run this extension in Jupyter Notebooks despite many debugging attempts. In the end, we decide to test run the R code in RStudios first and then paste it in the Jupyter Notebooks and ask the other member with the most robust machine to run it in Jupyter Notebooks. "
   ]
  }
 ],
 "metadata": {
  "kernelspec": {
   "display_name": "Python [conda env:525]",
   "language": "python",
   "name": "conda-env-525-py"
  },
  "language_info": {
   "codemirror_mode": {
    "name": "ipython",
    "version": 3
   },
   "file_extension": ".py",
   "mimetype": "text/x-python",
   "name": "python",
   "nbconvert_exporter": "python",
   "pygments_lexer": "ipython3",
   "version": "3.8.6"
  },
  "toc-autonumbering": false
 },
 "nbformat": 4,
 "nbformat_minor": 5
}
