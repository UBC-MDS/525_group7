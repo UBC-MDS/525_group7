{
 "cells": [
  {
   "cell_type": "markdown",
   "id": "incorrect-newark",
   "metadata": {},
   "source": [
    "# DSCI 525: Milestone 1\n",
    "\n",
    "Group 7:\n",
    "- Alex Truong Hai Yen\n",
    "- Peter Yang\n",
    "- Joshua JiaJie Lim\n",
    "- Rahul Kuriyedath"
   ]
  },
  {
   "cell_type": "markdown",
   "id": "intimate-latter",
   "metadata": {},
   "source": [
    "**Note to TA:** The running time and peak memory usage results vary for each rerun of the notebook. Moreover, the results are also computer-dependent. The notebook was run from start to end using Peter's PC (Windows 16Gb RAM)"
   ]
  },
  {
   "cell_type": "code",
   "execution_count": 1,
   "id": "strategic-photographer",
   "metadata": {},
   "outputs": [],
   "source": [
    "import re\n",
    "import os\n",
    "import glob\n",
    "import zipfile\n",
    "import requests\n",
    "from urllib.request import urlretrieve\n",
    "import json\n",
    "import pandas as pd\n",
    "from memory_profiler import memory_usage"
   ]
  },
  {
   "cell_type": "code",
   "execution_count": 2,
   "id": "disturbed-marketplace",
   "metadata": {},
   "outputs": [
    {
     "name": "stderr",
     "output_type": "stream",
     "text": [
      "C:\\Users\\szyan\\miniconda3\\envs\\525\\lib\\site-packages\\rpy2\\robjects\\packages.py:366: UserWarning: The symbol 'quartz' is not in this R namespace/package.\n",
      "  warnings.warn(\n"
     ]
    }
   ],
   "source": [
    "%load_ext rpy2.ipython"
   ]
  },
  {
   "cell_type": "code",
   "execution_count": 3,
   "id": "ceramic-return",
   "metadata": {},
   "outputs": [],
   "source": [
    "%load_ext memory_profiler"
   ]
  },
  {
   "cell_type": "markdown",
   "id": "earned-profit",
   "metadata": {},
   "source": [
    "## A) Downloading the data"
   ]
  },
  {
   "cell_type": "code",
   "execution_count": 4,
   "id": "unique-dream",
   "metadata": {},
   "outputs": [],
   "source": [
    "article_id = 14096681\n",
    "url = f\"https://api.figshare.com/v2/articles/{article_id}\"\n",
    "headers = {\"Content-Type\": \"application/json\"}\n",
    "output_directory = \"figshareairline/\""
   ]
  },
  {
   "cell_type": "code",
   "execution_count": 5,
   "id": "meaningful-usage",
   "metadata": {},
   "outputs": [
    {
     "data": {
      "text/plain": [
       "[{'is_link_only': False,\n",
       "  'name': 'daily_rainfall_2014.png',\n",
       "  'supplied_md5': 'fd32a2ffde300a31f8d63b1825d47e5e',\n",
       "  'computed_md5': 'fd32a2ffde300a31f8d63b1825d47e5e',\n",
       "  'id': 26579150,\n",
       "  'download_url': 'https://ndownloader.figshare.com/files/26579150',\n",
       "  'size': 58863},\n",
       " {'is_link_only': False,\n",
       "  'name': 'environment.yml',\n",
       "  'supplied_md5': '060b2020017eed93a1ee7dd8c65b2f34',\n",
       "  'computed_md5': '060b2020017eed93a1ee7dd8c65b2f34',\n",
       "  'id': 26579171,\n",
       "  'download_url': 'https://ndownloader.figshare.com/files/26579171',\n",
       "  'size': 192},\n",
       " {'is_link_only': False,\n",
       "  'name': 'README.md',\n",
       "  'supplied_md5': '61858c6cc0e6a6d6663a7e4c75bbd88c',\n",
       "  'computed_md5': '61858c6cc0e6a6d6663a7e4c75bbd88c',\n",
       "  'id': 26586554,\n",
       "  'download_url': 'https://ndownloader.figshare.com/files/26586554',\n",
       "  'size': 5422},\n",
       " {'is_link_only': False,\n",
       "  'name': 'data.zip',\n",
       "  'supplied_md5': 'b517383f76e77bd03755a63a8ff83ee9',\n",
       "  'computed_md5': 'b517383f76e77bd03755a63a8ff83ee9',\n",
       "  'id': 26766812,\n",
       "  'download_url': 'https://ndownloader.figshare.com/files/26766812',\n",
       "  'size': 814041183},\n",
       " {'is_link_only': False,\n",
       "  'name': 'get_data.py',\n",
       "  'supplied_md5': '7829028495fd9dec9680ea013474afa6',\n",
       "  'computed_md5': '7829028495fd9dec9680ea013474afa6',\n",
       "  'id': 26766815,\n",
       "  'download_url': 'https://ndownloader.figshare.com/files/26766815',\n",
       "  'size': 4113}]"
      ]
     },
     "execution_count": 5,
     "metadata": {},
     "output_type": "execute_result"
    }
   ],
   "source": [
    "response = requests.request(\"GET\", url, headers=headers)\n",
    "data = json.loads(response.text)\n",
    "files = data[\"files\"]\n",
    "files"
   ]
  },
  {
   "cell_type": "code",
   "execution_count": 6,
   "id": "recent-stroke",
   "metadata": {},
   "outputs": [
    {
     "name": "stdout",
     "output_type": "stream",
     "text": [
      "Wall time: 29.1 s\n"
     ]
    }
   ],
   "source": [
    "%%time\n",
    "files_to_dl = [\"data.zip\"]\n",
    "for file in files:\n",
    "    if file[\"name\"] in files_to_dl:\n",
    "        os.makedirs(output_directory, exist_ok=True)\n",
    "        urlretrieve(file[\"download_url\"], output_directory + file[\"name\"])"
   ]
  },
  {
   "cell_type": "code",
   "execution_count": 7,
   "id": "strange-infrastructure",
   "metadata": {},
   "outputs": [
    {
     "name": "stdout",
     "output_type": "stream",
     "text": [
      "Wall time: 15.2 s\n"
     ]
    }
   ],
   "source": [
    "%%time\n",
    "with zipfile.ZipFile(os.path.join(output_directory, \"data.zip\"), 'r') as f:\n",
    "    f.extractall(output_directory)"
   ]
  },
  {
   "cell_type": "markdown",
   "id": "helpful-issue",
   "metadata": {},
   "source": [
    "## B) Combining data CSVs"
   ]
  },
  {
   "cell_type": "code",
   "execution_count": 8,
   "id": "known-karen",
   "metadata": {},
   "outputs": [
    {
     "data": {
      "text/plain": [
       "['figshareairline\\\\ACCESS-CM2_daily_rainfall_NSW.csv',\n",
       " 'figshareairline\\\\ACCESS-ESM1-5_daily_rainfall_NSW.csv',\n",
       " 'figshareairline\\\\AWI-ESM-1-1-LR_daily_rainfall_NSW.csv',\n",
       " 'figshareairline\\\\BCC-CSM2-MR_daily_rainfall_NSW.csv',\n",
       " 'figshareairline\\\\BCC-ESM1_daily_rainfall_NSW.csv',\n",
       " 'figshareairline\\\\CanESM5_daily_rainfall_NSW.csv',\n",
       " 'figshareairline\\\\CMCC-CM2-HR4_daily_rainfall_NSW.csv',\n",
       " 'figshareairline\\\\CMCC-CM2-SR5_daily_rainfall_NSW.csv',\n",
       " 'figshareairline\\\\CMCC-ESM2_daily_rainfall_NSW.csv',\n",
       " 'figshareairline\\\\EC-Earth3-Veg-LR_daily_rainfall_NSW.csv',\n",
       " 'figshareairline\\\\FGOALS-f3-L_daily_rainfall_NSW.csv',\n",
       " 'figshareairline\\\\FGOALS-g3_daily_rainfall_NSW.csv',\n",
       " 'figshareairline\\\\GFDL-CM4_daily_rainfall_NSW.csv',\n",
       " 'figshareairline\\\\GFDL-ESM4_daily_rainfall_NSW.csv',\n",
       " 'figshareairline\\\\INM-CM4-8_daily_rainfall_NSW.csv',\n",
       " 'figshareairline\\\\INM-CM5-0_daily_rainfall_NSW.csv',\n",
       " 'figshareairline\\\\KIOST-ESM_daily_rainfall_NSW.csv',\n",
       " 'figshareairline\\\\MIROC6_daily_rainfall_NSW.csv',\n",
       " 'figshareairline\\\\MPI-ESM-1-2-HAM_daily_rainfall_NSW.csv',\n",
       " 'figshareairline\\\\MPI-ESM1-2-HR_daily_rainfall_NSW.csv',\n",
       " 'figshareairline\\\\MPI-ESM1-2-LR_daily_rainfall_NSW.csv',\n",
       " 'figshareairline\\\\MRI-ESM2-0_daily_rainfall_NSW.csv',\n",
       " 'figshareairline\\\\NESM3_daily_rainfall_NSW.csv',\n",
       " 'figshareairline\\\\NorESM2-LM_daily_rainfall_NSW.csv',\n",
       " 'figshareairline\\\\NorESM2-MM_daily_rainfall_NSW.csv',\n",
       " 'figshareairline\\\\observed_daily_rainfall_SYD.csv',\n",
       " 'figshareairline\\\\SAM0-UNICON_daily_rainfall_NSW.csv',\n",
       " 'figshareairline\\\\TaiESM1_daily_rainfall_NSW.csv']"
      ]
     },
     "execution_count": 8,
     "metadata": {},
     "output_type": "execute_result"
    }
   ],
   "source": [
    "import pandas as pd\n",
    "files = glob.glob('figshareairline/*.csv')\n",
    "files"
   ]
  },
  {
   "cell_type": "code",
   "execution_count": 9,
   "id": "fossil-electricity",
   "metadata": {},
   "outputs": [],
   "source": [
    "# For Mac OS:\n",
    "\n",
    "# if 'figshareairline/combined_data.csv' in (files):\n",
    "#     files.remove('figshareairline/combined_data.csv')\n",
    "# if 'figshareairline/observed_daily_rainfall_SYD.csv' in (files):\n",
    "#     files.remove('figshareairline/observed_daily_rainfall_SYD.csv')"
   ]
  },
  {
   "cell_type": "code",
   "execution_count": 10,
   "id": "compatible-flexibility",
   "metadata": {},
   "outputs": [],
   "source": [
    "# For Windows:\n",
    "\n",
    "if 'figshareairline\\\\combined_data.csv' in (files):\n",
    "    files.remove('figshareairline\\\\combined_data.csv')\n",
    "if 'figshareairline\\\\observed_daily_rainfall_SYD.csv' in (files):\n",
    "    files.remove('figshareairline\\\\observed_daily_rainfall_SYD.csv')"
   ]
  },
  {
   "cell_type": "code",
   "execution_count": 11,
   "id": "static-sense",
   "metadata": {},
   "outputs": [
    {
     "name": "stdout",
     "output_type": "stream",
     "text": [
      "peak memory: 136.30 MiB, increment: 0.28 MiB\n",
      "Wall time: 6min 3s\n"
     ]
    }
   ],
   "source": [
    "%%time\n",
    "%memit\n",
    "\n",
    "import pandas as pd # we do not use use_cols trick because we are loading all columns in the file\n",
    "df = pd.concat((pd.read_csv(file)\n",
    "                .assign(model=re.findall(r'[^\\\\/]+(?=_daily_rainfall_NSW)', file)[0])\n",
    "                for file in files)\n",
    "              )\n",
    "df.to_csv(\"figshareairline/combined_data.csv\", index = False)"
   ]
  },
  {
   "cell_type": "code",
   "execution_count": 12,
   "id": "renewable-cardiff",
   "metadata": {},
   "outputs": [
    {
     "name": "stdout",
     "output_type": "stream",
     "text": [
      "5.7G\tfigshareairline/combined_data.csv\n"
     ]
    }
   ],
   "source": [
    "%%sh\n",
    "du -sh figshareairline/combined_data.csv"
   ]
  },
  {
   "cell_type": "code",
   "execution_count": 13,
   "id": "closing-diameter",
   "metadata": {},
   "outputs": [
    {
     "name": "stdout",
     "output_type": "stream",
     "text": [
      "Wall time: 1min 1s\n"
     ]
    }
   ],
   "source": [
    "%%time\n",
    "df = pd.read_csv(\"figshareairline/combined_data.csv\")"
   ]
  },
  {
   "cell_type": "code",
   "execution_count": 14,
   "id": "approved-exception",
   "metadata": {},
   "outputs": [
    {
     "name": "stdout",
     "output_type": "stream",
     "text": [
      "(62467843, 7)\n"
     ]
    }
   ],
   "source": [
    "print(df.shape)"
   ]
  },
  {
   "cell_type": "code",
   "execution_count": 15,
   "id": "extensive-albany",
   "metadata": {
    "tags": []
   },
   "outputs": [
    {
     "data": {
      "text/html": [
       "<div>\n",
       "<style scoped>\n",
       "    .dataframe tbody tr th:only-of-type {\n",
       "        vertical-align: middle;\n",
       "    }\n",
       "\n",
       "    .dataframe tbody tr th {\n",
       "        vertical-align: top;\n",
       "    }\n",
       "\n",
       "    .dataframe thead th {\n",
       "        text-align: right;\n",
       "    }\n",
       "</style>\n",
       "<table border=\"1\" class=\"dataframe\">\n",
       "  <thead>\n",
       "    <tr style=\"text-align: right;\">\n",
       "      <th></th>\n",
       "      <th>time</th>\n",
       "      <th>lat_min</th>\n",
       "      <th>lat_max</th>\n",
       "      <th>lon_min</th>\n",
       "      <th>lon_max</th>\n",
       "      <th>rain (mm/day)</th>\n",
       "      <th>model</th>\n",
       "    </tr>\n",
       "  </thead>\n",
       "  <tbody>\n",
       "    <tr>\n",
       "      <th>0</th>\n",
       "      <td>1889-01-01 12:00:00</td>\n",
       "      <td>-36.25</td>\n",
       "      <td>-35.0</td>\n",
       "      <td>140.625</td>\n",
       "      <td>142.5</td>\n",
       "      <td>3.293256e-13</td>\n",
       "      <td>ACCESS-CM2</td>\n",
       "    </tr>\n",
       "    <tr>\n",
       "      <th>1</th>\n",
       "      <td>1889-01-02 12:00:00</td>\n",
       "      <td>-36.25</td>\n",
       "      <td>-35.0</td>\n",
       "      <td>140.625</td>\n",
       "      <td>142.5</td>\n",
       "      <td>0.000000e+00</td>\n",
       "      <td>ACCESS-CM2</td>\n",
       "    </tr>\n",
       "    <tr>\n",
       "      <th>2</th>\n",
       "      <td>1889-01-03 12:00:00</td>\n",
       "      <td>-36.25</td>\n",
       "      <td>-35.0</td>\n",
       "      <td>140.625</td>\n",
       "      <td>142.5</td>\n",
       "      <td>0.000000e+00</td>\n",
       "      <td>ACCESS-CM2</td>\n",
       "    </tr>\n",
       "    <tr>\n",
       "      <th>3</th>\n",
       "      <td>1889-01-04 12:00:00</td>\n",
       "      <td>-36.25</td>\n",
       "      <td>-35.0</td>\n",
       "      <td>140.625</td>\n",
       "      <td>142.5</td>\n",
       "      <td>0.000000e+00</td>\n",
       "      <td>ACCESS-CM2</td>\n",
       "    </tr>\n",
       "    <tr>\n",
       "      <th>4</th>\n",
       "      <td>1889-01-05 12:00:00</td>\n",
       "      <td>-36.25</td>\n",
       "      <td>-35.0</td>\n",
       "      <td>140.625</td>\n",
       "      <td>142.5</td>\n",
       "      <td>1.047658e-02</td>\n",
       "      <td>ACCESS-CM2</td>\n",
       "    </tr>\n",
       "  </tbody>\n",
       "</table>\n",
       "</div>"
      ],
      "text/plain": [
       "                  time  lat_min  lat_max  lon_min  lon_max  rain (mm/day)  \\\n",
       "0  1889-01-01 12:00:00   -36.25    -35.0  140.625    142.5   3.293256e-13   \n",
       "1  1889-01-02 12:00:00   -36.25    -35.0  140.625    142.5   0.000000e+00   \n",
       "2  1889-01-03 12:00:00   -36.25    -35.0  140.625    142.5   0.000000e+00   \n",
       "3  1889-01-04 12:00:00   -36.25    -35.0  140.625    142.5   0.000000e+00   \n",
       "4  1889-01-05 12:00:00   -36.25    -35.0  140.625    142.5   1.047658e-02   \n",
       "\n",
       "        model  \n",
       "0  ACCESS-CM2  \n",
       "1  ACCESS-CM2  \n",
       "2  ACCESS-CM2  \n",
       "3  ACCESS-CM2  \n",
       "4  ACCESS-CM2  "
      ]
     },
     "execution_count": 15,
     "metadata": {},
     "output_type": "execute_result"
    }
   ],
   "source": [
    "df.head()"
   ]
  },
  {
   "cell_type": "markdown",
   "id": "motivated-concentrate",
   "metadata": {},
   "source": [
    "**Comparison in run times and memory usages on different machines**\n",
    "\n",
    "Machine | Peter (Windows 16Gb RAM) |Alex (Windows 8Gb RAM) |Joshua (macOS Catalina 8Gb RAM) |Rahul \n",
    "---|---|---|---|---\n",
    "Download data - wall time| 29.1s | 12min 10s | 4min 10s\n",
    "Unzip data - wall time| 15.2s| 22.5s | 21.4 s\n",
    "Combine data - wall time| 6min 3s| 8 mins 16s | 7min 14s\n",
    "Combine data - peak memory | 136.30 MiB| 93.20 MiB| 78.52 MiB\n",
    "Read combined data - wall time | 1min 1s | 1min 50s | 1min 29s"
   ]
  },
  {
   "cell_type": "markdown",
   "id": "broadband-seafood",
   "metadata": {},
   "source": [
    "**Comment:**\n",
    "\n",
    "- Peter's machine can run the tasks faster than Alex's and Joshua's given the bigger RAM\n",
    "- Given the same RAM size for Alex's and Joshua's machine, MacOS seems to process and tast faster than Windows.\n",
    "- Alex's machine takes the longest to download the data.\n",
    "- Rahul was not able to run this notebook given he just moved to Vancouver and did not have the suitable laptop adapter to work on this milestone."
   ]
  },
  {
   "cell_type": "markdown",
   "id": "monthly-interim",
   "metadata": {},
   "source": [
    "## C) Load combined CSV to memory and perform a simple EDA in Python"
   ]
  },
  {
   "cell_type": "markdown",
   "id": "destroyed-electronics",
   "metadata": {},
   "source": [
    "### 1. How many records in each type of model?\n",
    "#### 1.1. Classical way - load all to memory (for comparison later)"
   ]
  },
  {
   "cell_type": "code",
   "execution_count": 16,
   "id": "ranking-worcester",
   "metadata": {},
   "outputs": [
    {
     "name": "stdout",
     "output_type": "stream",
     "text": [
      "MPI-ESM1-2-HR       5154240\n",
      "CMCC-CM2-SR5        3541230\n",
      "CMCC-CM2-HR4        3541230\n",
      "NorESM2-MM          3541230\n",
      "CMCC-ESM2           3541230\n",
      "TaiESM1             3541230\n",
      "SAM0-UNICON         3541153\n",
      "FGOALS-f3-L         3219300\n",
      "GFDL-ESM4           3219300\n",
      "GFDL-CM4            3219300\n",
      "EC-Earth3-Veg-LR    3037320\n",
      "MRI-ESM2-0          3037320\n",
      "BCC-CSM2-MR         3035340\n",
      "MIROC6              2070900\n",
      "ACCESS-CM2          1932840\n",
      "ACCESS-ESM1-5       1610700\n",
      "INM-CM4-8           1609650\n",
      "INM-CM5-0           1609650\n",
      "FGOALS-g3           1287720\n",
      "KIOST-ESM           1287720\n",
      "MPI-ESM1-2-LR        966420\n",
      "AWI-ESM-1-1-LR       966420\n",
      "NESM3                966420\n",
      "MPI-ESM-1-2-HAM      966420\n",
      "NorESM2-LM           919800\n",
      "CanESM5              551880\n",
      "BCC-ESM1             551880\n",
      "Name: model, dtype: int64\n",
      "peak memory: 11657.07 MiB, increment: 6534.23 MiB\n",
      "Wall time: 58.8 s\n"
     ]
    }
   ],
   "source": [
    "%%time\n",
    "%%memit\n",
    "df = pd.read_csv(\"figshareairline/combined_data.csv\")\n",
    "print(df[\"model\"].value_counts())"
   ]
  },
  {
   "cell_type": "markdown",
   "id": "french-reducing",
   "metadata": {},
   "source": [
    "#### 1.2. Loading in chunk "
   ]
  },
  {
   "cell_type": "code",
   "execution_count": 17,
   "id": "preliminary-forward",
   "metadata": {},
   "outputs": [
    {
     "name": "stdout",
     "output_type": "stream",
     "text": [
      "ACCESS-CM2          1932840\n",
      "ACCESS-ESM1-5       1610700\n",
      "AWI-ESM-1-1-LR       966420\n",
      "BCC-CSM2-MR         3035340\n",
      "BCC-ESM1             551880\n",
      "CMCC-CM2-HR4        3541230\n",
      "CMCC-CM2-SR5        3541230\n",
      "CMCC-ESM2           3541230\n",
      "CanESM5              551880\n",
      "EC-Earth3-Veg-LR    3037320\n",
      "FGOALS-f3-L         3219300\n",
      "FGOALS-g3           1287720\n",
      "GFDL-CM4            3219300\n",
      "GFDL-ESM4           3219300\n",
      "INM-CM4-8           1609650\n",
      "INM-CM5-0           1609650\n",
      "KIOST-ESM           1287720\n",
      "MIROC6              2070900\n",
      "MPI-ESM-1-2-HAM      966420\n",
      "MPI-ESM1-2-HR       5154240\n",
      "MPI-ESM1-2-LR        966420\n",
      "MRI-ESM2-0          3037320\n",
      "NESM3                966420\n",
      "NorESM2-LM           919800\n",
      "NorESM2-MM          3541230\n",
      "SAM0-UNICON         3541153\n",
      "TaiESM1             3541230\n",
      "dtype: int32\n",
      "peak memory: 9624.98 MiB, increment: 2161.25 MiB\n",
      "Wall time: 55.3 s\n"
     ]
    }
   ],
   "source": [
    "%%time\n",
    "%%memit\n",
    "counts = pd.Series(dtype=int)\n",
    "for chunk in pd.read_csv(\"figshareairline/combined_data.csv\", chunksize=10_000_000):\n",
    "    counts = counts.add(chunk[\"model\"].value_counts(), fill_value=0)\n",
    "print(counts.astype(int))"
   ]
  },
  {
   "cell_type": "markdown",
   "id": "early-scanning",
   "metadata": {},
   "source": [
    "**Comment:** (Results are computer-dependent)\n",
    "\n",
    "We cut the peak memory savings from 11657.07 MiB to 9624.98 MiB by loading the data in chunks instead of loading all data at once. There is savings in running time from 58.8 to 55.3s."
   ]
  },
  {
   "cell_type": "markdown",
   "id": "hispanic-canal",
   "metadata": {},
   "source": [
    "### 2. What is the average rain fall (mm/day) for the respective models\n",
    "#### 2.1. Classical way - load all to memory (for comparison later)"
   ]
  },
  {
   "cell_type": "code",
   "execution_count": 18,
   "id": "blind-corner",
   "metadata": {},
   "outputs": [
    {
     "name": "stdout",
     "output_type": "stream",
     "text": [
      "model\n",
      "ACCESS-CM2          1.787025\n",
      "ACCESS-ESM1-5       2.217501\n",
      "AWI-ESM-1-1-LR      2.026071\n",
      "BCC-CSM2-MR         1.951832\n",
      "BCC-ESM1            1.811032\n",
      "CMCC-CM2-HR4        2.279350\n",
      "CMCC-CM2-SR5        2.383389\n",
      "CMCC-ESM2           2.266125\n",
      "CanESM5             1.894328\n",
      "EC-Earth3-Veg-LR    1.516258\n",
      "FGOALS-f3-L         1.627373\n",
      "FGOALS-g3           2.156419\n",
      "GFDL-CM4            1.414485\n",
      "GFDL-ESM4                NaN\n",
      "INM-CM4-8           2.811463\n",
      "INM-CM5-0           2.669012\n",
      "KIOST-ESM           1.102353\n",
      "MIROC6              2.301662\n",
      "MPI-ESM-1-2-HAM     1.610720\n",
      "MPI-ESM1-2-HR       0.995569\n",
      "MPI-ESM1-2-LR       1.074308\n",
      "MRI-ESM2-0          1.368030\n",
      "NESM3               1.621936\n",
      "NorESM2-LM          2.230799\n",
      "NorESM2-MM          2.232966\n",
      "SAM0-UNICON         2.169676\n",
      "TaiESM1             2.224576\n",
      "Name: rain (mm/day), dtype: float64\n",
      "peak memory: 11833.14 MiB, increment: 4152.84 MiB\n",
      "Wall time: 1min 2s\n"
     ]
    }
   ],
   "source": [
    "%%time\n",
    "%%memit\n",
    "df = pd.read_csv(\"figshareairline/combined_data.csv\")\n",
    "print(df.groupby(by = ['model']).mean()['rain (mm/day)'])"
   ]
  },
  {
   "cell_type": "markdown",
   "id": "dated-freight",
   "metadata": {},
   "source": [
    "#### 2.2 Only load the columns that we are interested in"
   ]
  },
  {
   "cell_type": "code",
   "execution_count": 19,
   "id": "affected-rabbit",
   "metadata": {},
   "outputs": [
    {
     "name": "stdout",
     "output_type": "stream",
     "text": [
      "model\n",
      "ACCESS-CM2          1.787025\n",
      "ACCESS-ESM1-5       2.217501\n",
      "AWI-ESM-1-1-LR      2.026071\n",
      "BCC-CSM2-MR         1.951832\n",
      "BCC-ESM1            1.811032\n",
      "CMCC-CM2-HR4        2.279350\n",
      "CMCC-CM2-SR5        2.383389\n",
      "CMCC-ESM2           2.266125\n",
      "CanESM5             1.894328\n",
      "EC-Earth3-Veg-LR    1.516258\n",
      "FGOALS-f3-L         1.627373\n",
      "FGOALS-g3           2.156419\n",
      "GFDL-CM4            1.414485\n",
      "GFDL-ESM4                NaN\n",
      "INM-CM4-8           2.811463\n",
      "INM-CM5-0           2.669012\n",
      "KIOST-ESM           1.102353\n",
      "MIROC6              2.301662\n",
      "MPI-ESM-1-2-HAM     1.610720\n",
      "MPI-ESM1-2-HR       0.995569\n",
      "MPI-ESM1-2-LR       1.074308\n",
      "MRI-ESM2-0          1.368030\n",
      "NESM3               1.621936\n",
      "NorESM2-LM          2.230799\n",
      "NorESM2-MM          2.232966\n",
      "SAM0-UNICON         2.169676\n",
      "TaiESM1             2.224576\n",
      "Name: rain (mm/day), dtype: float64\n",
      "peak memory: 7066.39 MiB, increment: 1910.34 MiB\n",
      "Wall time: 35.8 s\n"
     ]
    }
   ],
   "source": [
    "%%time\n",
    "%%memit\n",
    "use_cols = ['model','rain (mm/day)']\n",
    "df = pd.read_csv(\"figshareairline/combined_data.csv\", usecols = use_cols)\n",
    "print(df.groupby(by = ['model']).mean()['rain (mm/day)'])"
   ]
  },
  {
   "cell_type": "markdown",
   "id": "focused-suffering",
   "metadata": {},
   "source": [
    "#### 2.3 Using dask"
   ]
  },
  {
   "cell_type": "code",
   "execution_count": 20,
   "id": "extreme-mobile",
   "metadata": {},
   "outputs": [
    {
     "name": "stdout",
     "output_type": "stream",
     "text": [
      "model\n",
      "ACCESS-CM2          1.787025\n",
      "ACCESS-ESM1-5       2.217501\n",
      "AWI-ESM-1-1-LR      2.026071\n",
      "BCC-CSM2-MR         1.951832\n",
      "BCC-ESM1            1.811032\n",
      "CanESM5             1.894328\n",
      "CMCC-CM2-HR4        2.279350\n",
      "CMCC-CM2-SR5        2.383389\n",
      "CMCC-ESM2           2.266125\n",
      "EC-Earth3-Veg-LR    1.516258\n",
      "FGOALS-f3-L         1.627373\n",
      "FGOALS-g3           2.156419\n",
      "GFDL-CM4            1.414485\n",
      "GFDL-ESM4                NaN\n",
      "INM-CM4-8           2.811463\n",
      "INM-CM5-0           2.669012\n",
      "KIOST-ESM           1.102353\n",
      "MIROC6              2.301662\n",
      "MPI-ESM-1-2-HAM     1.610720\n",
      "MPI-ESM1-2-HR       0.995569\n",
      "MPI-ESM1-2-LR       1.074308\n",
      "MRI-ESM2-0          1.368030\n",
      "NESM3               1.621936\n",
      "NorESM2-LM          2.230799\n",
      "NorESM2-MM          2.232966\n",
      "SAM0-UNICON         2.169676\n",
      "TaiESM1             2.224576\n",
      "Name: rain (mm/day), dtype: float64\n",
      "peak memory: 3470.72 MiB, increment: 2393.04 MiB\n",
      "Wall time: 36.8 s\n"
     ]
    }
   ],
   "source": [
    "%%time\n",
    "%%memit\n",
    "import dask.dataframe as dd\n",
    "\n",
    "ddf = dd.read_csv('figshareairline/combined_data.csv', )\n",
    "print(ddf.groupby(by = ['model']).mean()['rain (mm/day)'].compute())"
   ]
  },
  {
   "cell_type": "markdown",
   "id": "atmospheric-conjunction",
   "metadata": {},
   "source": [
    "**Comment:** (Results are computer dependent)\n",
    "- By loading only the columns of interest instead of all the columns in the dataframe, we can save peak memory usage from 11833.14 in 2.1 to  7066.39 MiB in 2.2. Running time is significantly reduced from 1min 2s to 35.8s.\n",
    "\n",
    "- With dask where chunking and parallel execution are applied automatically for us, we can process the data faster than traditional Pandas method at 36.8 s. It also takes up the least amount of memory during peak usage at 3470.72 MiB, that is only around 50% of what the traditional Pandas method consumes."
   ]
  },
  {
   "cell_type": "markdown",
   "id": "suspected-affiliate",
   "metadata": {},
   "source": [
    "## D) Transfer dataframe from Python to R and Perform a simple R EDA"
   ]
  },
  {
   "cell_type": "markdown",
   "id": "sudden-hacker",
   "metadata": {},
   "source": [
    "### 1. Comparing the different file formats created in Python in terms of file size\n",
    "\n",
    "(Results are computer dependent)"
   ]
  },
  {
   "cell_type": "code",
   "execution_count": 21,
   "id": "smart-empty",
   "metadata": {},
   "outputs": [],
   "source": [
    "# Attribution: adopt code of Gittu in DSCI 525 Lecture 2 with modification"
   ]
  },
  {
   "cell_type": "code",
   "execution_count": 22,
   "id": "isolated-township",
   "metadata": {},
   "outputs": [
    {
     "name": "stdout",
     "output_type": "stream",
     "text": [
      "peak memory: 4980.05 MiB, increment: 3883.42 MiB\n",
      "Wall time: 22.9 s\n"
     ]
    }
   ],
   "source": [
    "%%time\n",
    "%%memit\n",
    "# convert csv to arrow table format\n",
    "import pyarrow.dataset as ds\n",
    "dataset = ds.dataset(\"figshareairline/combined_data.csv\", format=\"csv\")\n",
    "table = dataset.to_table()"
   ]
  },
  {
   "cell_type": "code",
   "execution_count": 23,
   "id": "focused-statement",
   "metadata": {},
   "outputs": [
    {
     "name": "stdout",
     "output_type": "stream",
     "text": [
      "peak memory: 4998.50 MiB, increment: 21.58 MiB\n",
      "Wall time: 2.47 s\n"
     ]
    }
   ],
   "source": [
    "%%time\n",
    "%%memit\n",
    "# writing arrow table to feather format\n",
    "import pyarrow.feather as feather\n",
    "feather.write_feather(table, 'figshareairline/combined_data.feather')"
   ]
  },
  {
   "cell_type": "code",
   "execution_count": 24,
   "id": "affected-skating",
   "metadata": {},
   "outputs": [
    {
     "name": "stdout",
     "output_type": "stream",
     "text": [
      "peak memory: 5184.34 MiB, increment: 185.82 MiB\n",
      "Wall time: 10.4 s\n"
     ]
    }
   ],
   "source": [
    "%%time\n",
    "%%memit\n",
    "# writing arrow table to feather format\n",
    "import pyarrow.parquet as pq\n",
    "pq.write_to_dataset(table, 'figshareairline/combined_data.parquet')"
   ]
  },
  {
   "cell_type": "code",
   "execution_count": 25,
   "id": "electric-railway",
   "metadata": {},
   "outputs": [
    {
     "name": "stdout",
     "output_type": "stream",
     "text": [
      "5.7G\tfigshareairline/combined_data.csv\n",
      "1.1G\tfigshareairline/combined_data.feather\n",
      "542M\tfigshareairline/combined_data.parquet\n"
     ]
    }
   ],
   "source": [
    "%%sh\n",
    "# seeing the size of the csv data\n",
    "du -sh figshareairline/combined_data.csv\n",
    "# seeing the size of the feather data\n",
    "du -sh figshareairline/combined_data.feather\n",
    "# seeing the size of the parquet data\n",
    "du -sh figshareairline/combined_data.parquet"
   ]
  },
  {
   "cell_type": "markdown",
   "id": "working-strain",
   "metadata": {},
   "source": [
    "### 2. Rationale for why we chose **parquet** file format to transfer dataframe from python to R:\n",
    "\n",
    "- The traditional panda exchange would be inefficient in running time for both loading and process the data during EDA because with it has to load the entire data in memory. Moreover, its storage in csv file is the largest\n",
    "\n",
    "- Arrow exchange helps reduce the running time as compared to traditional panda exchange thanks to its columnar memory format and language independence or no serialization features. Instead of having to load or search through the entire data, it can efficiently search by column. However, arrow format only supports some operations for data wrangling, this could be restricting on EDA.\n",
    "\n",
    "- Hence, we preferred other columnar memory file formats like .feather or .pacquet.  because it has all the advantage of columnar format like arrow and it allows more flexible operations in data wrangling. \n",
    "\n",
    "- Between .feather and .pacquet, we chose .pacquet given it has a more established history and we think its performance would be more stable or less bugging than .feather, which is actively developed. Moreover, .pacquet file is highly portable because its file size is the smallest for the same amount of data.\n",
    "\n",
    "\n",
    "*Reference: [What is Apache Parquet and why you should use it!](https://www.upsolver.com/blog/apache-parquet-why-use)*"
   ]
  },
  {
   "cell_type": "markdown",
   "id": "brief-timer",
   "metadata": {},
   "source": [
    "### 3. Transfer data file to R using pacquet and conduct a simple R EDA"
   ]
  },
  {
   "cell_type": "code",
   "execution_count": 26,
   "id": "economic-internship",
   "metadata": {},
   "outputs": [
    {
     "data": {
      "text/plain": [
       "'figshareairline/combined_data.parquet\\\\460369ff572d43b286e6ade5bafd370c.parquet'"
      ]
     },
     "execution_count": 26,
     "metadata": {},
     "output_type": "execute_result"
    }
   ],
   "source": [
    "filepath = glob.glob('figshareairline/combined_data.parquet/*.parquet')[0]\n",
    "filepath"
   ]
  },
  {
   "cell_type": "code",
   "execution_count": 27,
   "id": "empty-color",
   "metadata": {},
   "outputs": [
    {
     "name": "stderr",
     "output_type": "stream",
     "text": [
      "R[write to console]: \n",
      "Attaching package: 'arrow'\n",
      "\n",
      "\n",
      "R[write to console]: The following object is masked from 'package:utils':\n",
      "\n",
      "    timestamp\n",
      "\n",
      "\n",
      "R[write to console]: \n",
      "Attaching package: 'dplyr'\n",
      "\n",
      "\n",
      "R[write to console]: The following objects are masked from 'package:stats':\n",
      "\n",
      "    filter, lag\n",
      "\n",
      "\n",
      "R[write to console]: The following objects are masked from 'package:base':\n",
      "\n",
      "    intersect, setdiff, setequal, union\n",
      "\n",
      "\n"
     ]
    },
    {
     "name": "stdout",
     "output_type": "stream",
     "text": [
      "`summarise()` ungrouping output (override with `.groups` argument)\n",
      "# A tibble: 27 x 2\n",
      "   model            no_of_records\n",
      "   <chr>                    <int>\n",
      " 1 ACCESS-CM2             1932840\n",
      " 2 ACCESS-ESM1-5          1610700\n",
      " 3 AWI-ESM-1-1-LR          966420\n",
      " 4 BCC-CSM2-MR            3035340\n",
      " 5 BCC-ESM1                551880\n",
      " 6 CanESM5                 551880\n",
      " 7 CMCC-CM2-HR4           3541230\n",
      " 8 CMCC-CM2-SR5           3541230\n",
      " 9 CMCC-ESM2              3541230\n",
      "10 EC-Earth3-Veg-LR       3037320\n",
      "# ... with 17 more rows\n",
      "Time difference of 1.699997 secs\n",
      "`summarise()` ungrouping output (override with `.groups` argument)\n",
      "# A tibble: 27 x 2\n",
      "   model            average_rainfall\n",
      "   <chr>                       <dbl>\n",
      " 1 ACCESS-CM2                   1.79\n",
      " 2 ACCESS-ESM1-5                2.22\n",
      " 3 AWI-ESM-1-1-LR               2.03\n",
      " 4 BCC-CSM2-MR                  1.95\n",
      " 5 BCC-ESM1                     1.81\n",
      " 6 CanESM5                      1.89\n",
      " 7 CMCC-CM2-HR4                 2.28\n",
      " 8 CMCC-CM2-SR5                 2.38\n",
      " 9 CMCC-ESM2                    2.27\n",
      "10 EC-Earth3-Veg-LR             1.52\n",
      "# ... with 17 more rows\n",
      "Time difference of 2.380025 secs\n",
      "Wall time: 12.6 s\n"
     ]
    }
   ],
   "source": [
    "%%time\n",
    "%%R -i filepath\n",
    "\n",
    "# Looading the data from parquet\n",
    "library(arrow)\n",
    "r_table <- arrow::read_parquet(filepath)\n",
    "\n",
    "# conduct simple EDA\n",
    "\n",
    "## EDA 1\n",
    "library(dplyr)\n",
    "start_time <- Sys.time()\n",
    "\n",
    "result_eda1 <- r_table %>%\n",
    "    group_by(model) %>%\n",
    "    summarise(no_of_records = n()) \n",
    "\n",
    "end_time <- Sys.time()\n",
    "\n",
    "print(result_eda1)\n",
    "print(end_time - start_time)\n",
    "\n",
    "## EDA 2\n",
    "start_time <- Sys.time()\n",
    "\n",
    "result_eda2 <- r_table %>%\n",
    "    group_by(model) %>%\n",
    "    summarise(average_rainfall = mean(`rain (mm/day)`)) \n",
    "\n",
    "end_time <- Sys.time()\n",
    "\n",
    "print(result_eda2)\n",
    "print(end_time - start_time)"
   ]
  },
  {
   "cell_type": "markdown",
   "id": "lined-nepal",
   "metadata": {},
   "source": [
    "**Comment:** \n",
    "\n",
    "Besides 1.7s and 2.4s for the two respective EDA, the remaining wall time was spent to read in the .parquet file (12.6 - 1.7 - 2.4 = 8.5 s). Given its size, this is a decent performance."
   ]
  },
  {
   "cell_type": "markdown",
   "id": "executive-parking",
   "metadata": {},
   "source": [
    "## Closing comments"
   ]
  },
  {
   "cell_type": "markdown",
   "id": "formal-oriental",
   "metadata": {},
   "source": [
    "* Given the size of this data is quite large, the time it took us to run the code is quite long. We overcome this by apply more efficient loading method as well as converted the data to more advanced format like .parquet\n",
    "* There are different file syntax between Windows and macOS that we have managed to debug successfully.\n",
    "* The `rpy2` is another obstacle given two of our members could not run this extension in Jupyter Notebooks despite many debugging attempts. In the end, we decide to test run the R code in RStudios first and then paste it in the Jupyter Notebooks and ask the other member with the most robust machine to run it in Jupyter Notebooks. "
   ]
  }
 ],
 "metadata": {
  "kernelspec": {
   "display_name": "Python [conda env:525]",
   "language": "python",
   "name": "conda-env-525-py"
  },
  "language_info": {
   "codemirror_mode": {
    "name": "ipython",
    "version": 3
   },
   "file_extension": ".py",
   "mimetype": "text/x-python",
   "name": "python",
   "nbconvert_exporter": "python",
   "pygments_lexer": "ipython3",
   "version": "3.8.6"
  },
  "toc-autonumbering": false
 },
 "nbformat": 4,
 "nbformat_minor": 5
}
